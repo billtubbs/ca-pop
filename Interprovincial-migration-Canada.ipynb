{
 "cells": [
  {
   "cell_type": "markdown",
   "metadata": {},
   "source": [
    "## Interprovincial Migration - Canada\n",
    "\n",
    "Data source: https://www150.statcan.gc.ca/n1/tbl/csv/17100022-eng.zip"
   ]
  },
  {
   "cell_type": "code",
   "execution_count": 1,
   "metadata": {},
   "outputs": [],
   "source": [
    "import os\n",
    "import numpy as np\n",
    "import pandas as pd\n",
    "import matplotlib.pyplot as plt\n",
    "\n",
    "%matplotlib inline"
   ]
  },
  {
   "cell_type": "code",
   "execution_count": 2,
   "metadata": {},
   "outputs": [],
   "source": [
    "data_dir = 'data'\n",
    "sub_dir = '17100022-eng'\n",
    "filename = '17100022.csv'\n",
    "plot_dir = 'plots'"
   ]
  },
  {
   "cell_type": "code",
   "execution_count": 3,
   "metadata": {},
   "outputs": [],
   "source": [
    "if not os.path.exists(data_dir):\n",
    "    os.mkdir(data_dir)\n",
    "if not os.path.exists(plot_dir):\n",
    "    os.mkdir(plot_dir)"
   ]
  },
  {
   "cell_type": "code",
   "execution_count": 4,
   "metadata": {},
   "outputs": [
    {
     "data": {
      "text/plain": [
       "(7008, 15)"
      ]
     },
     "execution_count": 4,
     "metadata": {},
     "output_type": "execute_result"
    }
   ],
   "source": [
    "filepath = os.path.join(data_dir, sub_dir, filename)\n",
    "df = pd.read_csv(filepath)\n",
    "df.shape"
   ]
  },
  {
   "cell_type": "code",
   "execution_count": 5,
   "metadata": {},
   "outputs": [
    {
     "data": {
      "text/html": [
       "<div>\n",
       "<style scoped>\n",
       "    .dataframe tbody tr th:only-of-type {\n",
       "        vertical-align: middle;\n",
       "    }\n",
       "\n",
       "    .dataframe tbody tr th {\n",
       "        vertical-align: top;\n",
       "    }\n",
       "\n",
       "    .dataframe thead th {\n",
       "        text-align: right;\n",
       "    }\n",
       "</style>\n",
       "<table border=\"1\" class=\"dataframe\">\n",
       "  <thead>\n",
       "    <tr style=\"text-align: right;\">\n",
       "      <th></th>\n",
       "      <th>REF_DATE</th>\n",
       "      <th>GEO</th>\n",
       "      <th>DGUID</th>\n",
       "      <th>Geography, province of destination</th>\n",
       "      <th>UOM</th>\n",
       "      <th>UOM_ID</th>\n",
       "      <th>SCALAR_FACTOR</th>\n",
       "      <th>SCALAR_ID</th>\n",
       "      <th>VECTOR</th>\n",
       "      <th>COORDINATE</th>\n",
       "      <th>VALUE</th>\n",
       "      <th>STATUS</th>\n",
       "      <th>SYMBOL</th>\n",
       "      <th>TERMINATED</th>\n",
       "      <th>DECIMALS</th>\n",
       "    </tr>\n",
       "  </thead>\n",
       "  <tbody>\n",
       "    <tr>\n",
       "      <th>0</th>\n",
       "      <td>1971/1972</td>\n",
       "      <td>Newfoundland and Labrador, province of origin</td>\n",
       "      <td>2016A000210</td>\n",
       "      <td>Prince Edward Island, province of destination</td>\n",
       "      <td>Persons</td>\n",
       "      <td>249</td>\n",
       "      <td>units</td>\n",
       "      <td>0</td>\n",
       "      <td>v466446</td>\n",
       "      <td>1.2</td>\n",
       "      <td>141</td>\n",
       "      <td>NaN</td>\n",
       "      <td>NaN</td>\n",
       "      <td>NaN</td>\n",
       "      <td>0</td>\n",
       "    </tr>\n",
       "    <tr>\n",
       "      <th>1</th>\n",
       "      <td>1971/1972</td>\n",
       "      <td>Newfoundland and Labrador, province of origin</td>\n",
       "      <td>2016A000210</td>\n",
       "      <td>Nova Scotia, province of destination</td>\n",
       "      <td>Persons</td>\n",
       "      <td>249</td>\n",
       "      <td>units</td>\n",
       "      <td>0</td>\n",
       "      <td>v466451</td>\n",
       "      <td>1.3</td>\n",
       "      <td>1451</td>\n",
       "      <td>NaN</td>\n",
       "      <td>NaN</td>\n",
       "      <td>NaN</td>\n",
       "      <td>0</td>\n",
       "    </tr>\n",
       "    <tr>\n",
       "      <th>2</th>\n",
       "      <td>1971/1972</td>\n",
       "      <td>Newfoundland and Labrador, province of origin</td>\n",
       "      <td>2016A000210</td>\n",
       "      <td>New Brunswick, province of destination</td>\n",
       "      <td>Persons</td>\n",
       "      <td>249</td>\n",
       "      <td>units</td>\n",
       "      <td>0</td>\n",
       "      <td>v466452</td>\n",
       "      <td>1.4</td>\n",
       "      <td>1042</td>\n",
       "      <td>NaN</td>\n",
       "      <td>NaN</td>\n",
       "      <td>NaN</td>\n",
       "      <td>0</td>\n",
       "    </tr>\n",
       "    <tr>\n",
       "      <th>3</th>\n",
       "      <td>1971/1972</td>\n",
       "      <td>Newfoundland and Labrador, province of origin</td>\n",
       "      <td>2016A000210</td>\n",
       "      <td>Quebec, province of destination</td>\n",
       "      <td>Persons</td>\n",
       "      <td>249</td>\n",
       "      <td>units</td>\n",
       "      <td>0</td>\n",
       "      <td>v466453</td>\n",
       "      <td>1.5</td>\n",
       "      <td>1104</td>\n",
       "      <td>NaN</td>\n",
       "      <td>NaN</td>\n",
       "      <td>NaN</td>\n",
       "      <td>0</td>\n",
       "    </tr>\n",
       "    <tr>\n",
       "      <th>4</th>\n",
       "      <td>1971/1972</td>\n",
       "      <td>Newfoundland and Labrador, province of origin</td>\n",
       "      <td>2016A000210</td>\n",
       "      <td>Ontario, province of destination</td>\n",
       "      <td>Persons</td>\n",
       "      <td>249</td>\n",
       "      <td>units</td>\n",
       "      <td>0</td>\n",
       "      <td>v466454</td>\n",
       "      <td>1.6</td>\n",
       "      <td>6733</td>\n",
       "      <td>NaN</td>\n",
       "      <td>NaN</td>\n",
       "      <td>NaN</td>\n",
       "      <td>0</td>\n",
       "    </tr>\n",
       "  </tbody>\n",
       "</table>\n",
       "</div>"
      ],
      "text/plain": [
       "    REF_DATE                                            GEO        DGUID  \\\n",
       "0  1971/1972  Newfoundland and Labrador, province of origin  2016A000210   \n",
       "1  1971/1972  Newfoundland and Labrador, province of origin  2016A000210   \n",
       "2  1971/1972  Newfoundland and Labrador, province of origin  2016A000210   \n",
       "3  1971/1972  Newfoundland and Labrador, province of origin  2016A000210   \n",
       "4  1971/1972  Newfoundland and Labrador, province of origin  2016A000210   \n",
       "\n",
       "              Geography, province of destination      UOM  UOM_ID  \\\n",
       "0  Prince Edward Island, province of destination  Persons     249   \n",
       "1           Nova Scotia, province of destination  Persons     249   \n",
       "2         New Brunswick, province of destination  Persons     249   \n",
       "3                Quebec, province of destination  Persons     249   \n",
       "4               Ontario, province of destination  Persons     249   \n",
       "\n",
       "  SCALAR_FACTOR  SCALAR_ID   VECTOR  COORDINATE  VALUE  STATUS  SYMBOL  \\\n",
       "0        units           0  v466446         1.2    141     NaN     NaN   \n",
       "1        units           0  v466451         1.3   1451     NaN     NaN   \n",
       "2        units           0  v466452         1.4   1042     NaN     NaN   \n",
       "3        units           0  v466453         1.5   1104     NaN     NaN   \n",
       "4        units           0  v466454         1.6   6733     NaN     NaN   \n",
       "\n",
       "  TERMINATED  DECIMALS  \n",
       "0        NaN         0  \n",
       "1        NaN         0  \n",
       "2        NaN         0  \n",
       "3        NaN         0  \n",
       "4        NaN         0  "
      ]
     },
     "execution_count": 5,
     "metadata": {},
     "output_type": "execute_result"
    }
   ],
   "source": [
    "df.head()"
   ]
  },
  {
   "cell_type": "code",
   "execution_count": 6,
   "metadata": {},
   "outputs": [
    {
     "data": {
      "text/plain": [
       "array(['Newfoundland and Labrador, province of origin',\n",
       "       'Prince Edward Island, province of origin',\n",
       "       'Nova Scotia, province of origin',\n",
       "       'New Brunswick, province of origin', 'Quebec, province of origin',\n",
       "       'Ontario, province of origin', 'Manitoba, province of origin',\n",
       "       'Saskatchewan, province of origin', 'Alberta, province of origin',\n",
       "       'British Columbia, province of origin',\n",
       "       'Yukon, province of origin',\n",
       "       'Northwest Territories including Nunavut, province of origin',\n",
       "       'Northwest Territories, province of origin',\n",
       "       'Nunavut, province of origin'], dtype=object)"
      ]
     },
     "execution_count": 6,
     "metadata": {},
     "output_type": "execute_result"
    }
   ],
   "source": [
    "df.GEO.unique()"
   ]
  },
  {
   "cell_type": "code",
   "execution_count": 7,
   "metadata": {},
   "outputs": [
    {
     "data": {
      "text/plain": [
       "array(['Prince Edward Island, province of destination',\n",
       "       'Nova Scotia, province of destination',\n",
       "       'New Brunswick, province of destination',\n",
       "       'Quebec, province of destination',\n",
       "       'Ontario, province of destination',\n",
       "       'Manitoba, province of destination',\n",
       "       'Saskatchewan, province of destination',\n",
       "       'Alberta, province of destination',\n",
       "       'British Columbia, province of destination',\n",
       "       'Yukon, province of destination',\n",
       "       'Northwest Territories including Nunavut, province of destination',\n",
       "       'Newfoundland and Labrador, province of destination',\n",
       "       'Northwest Territories, province of destination',\n",
       "       'Nunavut, province of destination'], dtype=object)"
      ]
     },
     "execution_count": 7,
     "metadata": {},
     "output_type": "execute_result"
    }
   ],
   "source": [
    "df['Geography, province of destination'].unique()"
   ]
  },
  {
   "cell_type": "code",
   "execution_count": 8,
   "metadata": {},
   "outputs": [
    {
     "data": {
      "text/plain": [
       "array(['1971/1972', '1972/1973', '1973/1974', '1974/1975', '1975/1976',\n",
       "       '1976/1977', '1977/1978', '1978/1979', '1979/1980', '1980/1981',\n",
       "       '1981/1982', '1982/1983', '1983/1984', '1984/1985', '1985/1986',\n",
       "       '1986/1987', '1987/1988', '1988/1989', '1989/1990', '1990/1991',\n",
       "       '1991/1992', '1992/1993', '1993/1994', '1994/1995', '1995/1996',\n",
       "       '1996/1997', '1997/1998', '1998/1999', '1999/2000', '2000/2001',\n",
       "       '2001/2002', '2002/2003', '2003/2004', '2004/2005', '2005/2006',\n",
       "       '2006/2007', '2007/2008', '2008/2009', '2009/2010', '2010/2011',\n",
       "       '2011/2012', '2012/2013', '2013/2014', '2014/2015', '2015/2016',\n",
       "       '2016/2017', '2017/2018', '2018/2019'], dtype=object)"
      ]
     },
     "execution_count": 8,
     "metadata": {},
     "output_type": "execute_result"
    }
   ],
   "source": [
    "df.REF_DATE.unique()"
   ]
  },
  {
   "cell_type": "code",
   "execution_count": 9,
   "metadata": {},
   "outputs": [],
   "source": [
    "origin = 'British Columbia, province of origin'\n",
    "destination = 'British Columbia, province of destination'"
   ]
  },
  {
   "cell_type": "code",
   "execution_count": 10,
   "metadata": {},
   "outputs": [
    {
     "data": {
      "image/png": "[encoded data removed]",
      "text/plain": [
       "<Figure size 720x288 with 1 Axes>"
      ]
     },
     "metadata": {
      "needs_background": "light"
     },
     "output_type": "display_data"
    }
   ],
   "source": [
    "departures = df.loc[df.GEO == origin]\n",
    "total_departures_by_year = departures.groupby('REF_DATE').sum()['VALUE'].rename('Total Departures')\n",
    "total_departures_by_year.plot.bar(figsize=(10,4))\n",
    "plt.title('Total Number of Migrants Who Left BC')\n",
    "plt.grid()\n",
    "plt.tight_layout()\n",
    "plt.savefig(os.path.join(plot_dir,'total-migration.png'), dpi=200)\n",
    "plt.show()"
   ]
  },
  {
   "cell_type": "code",
   "execution_count": 11,
   "metadata": {},
   "outputs": [
    {
     "data": {
      "image/png": "[encoded data removed]",
      "text/plain": [
       "<Figure size 720x288 with 1 Axes>"
      ]
     },
     "metadata": {
      "needs_background": "light"
     },
     "output_type": "display_data"
    }
   ],
   "source": [
    "arrivals = df.loc[df['Geography, province of destination'] == destination]\n",
    "total_arrivals_by_year = arrivals.groupby('REF_DATE').sum()['VALUE'].rename('Total Arrivals')\n",
    "total_arrivals_by_year.plot.bar(figsize=(10,4), color='tab:green')\n",
    "plt.title('Total Number of Immigrants Who Moved to BC')\n",
    "plt.grid()\n",
    "plt.tight_layout()\n",
    "plt.savefig(os.path.join(plot_dir,'total-immigration.png'), dpi=200)\n",
    "plt.show()"
   ]
  },
  {
   "cell_type": "code",
   "execution_count": 12,
   "metadata": {},
   "outputs": [
    {
     "data": {
      "image/png": "[encoded data removed]",
      "text/plain": [
       "<Figure size 720x288 with 1 Axes>"
      ]
     },
     "metadata": {
      "needs_background": "light"
     },
     "output_type": "display_data"
    }
   ],
   "source": [
    "net_immigration_by_year = (total_arrivals_by_year - total_departures_by_year).rename('Net Immigration')\n",
    "net_immigration_by_year.plot.bar(figsize=(10,4), color='tab:orange')\n",
    "plt.title('Total Number of Immigrants Who Moved to BC')\n",
    "plt.grid()\n",
    "plt.tight_layout()\n",
    "plt.savefig(os.path.join(plot_dir,'net-immigration.png'), dpi=200)\n",
    "plt.show()"
   ]
  },
  {
   "cell_type": "code",
   "execution_count": 13,
   "metadata": {},
   "outputs": [
    {
     "data": {
      "text/html": [
       "<div>\n",
       "<style scoped>\n",
       "    .dataframe tbody tr th:only-of-type {\n",
       "        vertical-align: middle;\n",
       "    }\n",
       "\n",
       "    .dataframe tbody tr th {\n",
       "        vertical-align: top;\n",
       "    }\n",
       "\n",
       "    .dataframe thead th {\n",
       "        text-align: right;\n",
       "    }\n",
       "</style>\n",
       "<table border=\"1\" class=\"dataframe\">\n",
       "  <thead>\n",
       "    <tr style=\"text-align: right;\">\n",
       "      <th></th>\n",
       "      <th>Total Arrivals</th>\n",
       "      <th>Total Departures</th>\n",
       "      <th>Net Immigration</th>\n",
       "    </tr>\n",
       "    <tr>\n",
       "      <th>REF_DATE</th>\n",
       "      <th></th>\n",
       "      <th></th>\n",
       "      <th></th>\n",
       "    </tr>\n",
       "  </thead>\n",
       "  <tbody>\n",
       "    <tr>\n",
       "      <th>2004/2005</th>\n",
       "      <td>54280</td>\n",
       "      <td>46066</td>\n",
       "      <td>8214</td>\n",
       "    </tr>\n",
       "    <tr>\n",
       "      <th>2005/2006</th>\n",
       "      <td>53096</td>\n",
       "      <td>44296</td>\n",
       "      <td>8800</td>\n",
       "    </tr>\n",
       "    <tr>\n",
       "      <th>2006/2007</th>\n",
       "      <td>58182</td>\n",
       "      <td>43177</td>\n",
       "      <td>15005</td>\n",
       "    </tr>\n",
       "    <tr>\n",
       "      <th>2007/2008</th>\n",
       "      <td>57396</td>\n",
       "      <td>42753</td>\n",
       "      <td>14643</td>\n",
       "    </tr>\n",
       "    <tr>\n",
       "      <th>2008/2009</th>\n",
       "      <td>51061</td>\n",
       "      <td>41066</td>\n",
       "      <td>9995</td>\n",
       "    </tr>\n",
       "    <tr>\n",
       "      <th>2009/2010</th>\n",
       "      <td>49469</td>\n",
       "      <td>40741</td>\n",
       "      <td>8728</td>\n",
       "    </tr>\n",
       "    <tr>\n",
       "      <th>2010/2011</th>\n",
       "      <td>47854</td>\n",
       "      <td>44433</td>\n",
       "      <td>3421</td>\n",
       "    </tr>\n",
       "    <tr>\n",
       "      <th>2011/2012</th>\n",
       "      <td>48593</td>\n",
       "      <td>51304</td>\n",
       "      <td>-2711</td>\n",
       "    </tr>\n",
       "    <tr>\n",
       "      <th>2012/2013</th>\n",
       "      <td>43830</td>\n",
       "      <td>45698</td>\n",
       "      <td>-1868</td>\n",
       "    </tr>\n",
       "    <tr>\n",
       "      <th>2013/2014</th>\n",
       "      <td>52281</td>\n",
       "      <td>42806</td>\n",
       "      <td>9475</td>\n",
       "    </tr>\n",
       "    <tr>\n",
       "      <th>2014/2015</th>\n",
       "      <td>61026</td>\n",
       "      <td>40647</td>\n",
       "      <td>20379</td>\n",
       "    </tr>\n",
       "    <tr>\n",
       "      <th>2015/2016</th>\n",
       "      <td>63788</td>\n",
       "      <td>37215</td>\n",
       "      <td>26573</td>\n",
       "    </tr>\n",
       "    <tr>\n",
       "      <th>2016/2017</th>\n",
       "      <td>57210</td>\n",
       "      <td>38376</td>\n",
       "      <td>18834</td>\n",
       "    </tr>\n",
       "    <tr>\n",
       "      <th>2017/2018</th>\n",
       "      <td>55300</td>\n",
       "      <td>41311</td>\n",
       "      <td>13989</td>\n",
       "    </tr>\n",
       "    <tr>\n",
       "      <th>2018/2019</th>\n",
       "      <td>55612</td>\n",
       "      <td>49501</td>\n",
       "      <td>6111</td>\n",
       "    </tr>\n",
       "  </tbody>\n",
       "</table>\n",
       "</div>"
      ],
      "text/plain": [
       "           Total Arrivals  Total Departures  Net Immigration\n",
       "REF_DATE                                                    \n",
       "2004/2005           54280             46066             8214\n",
       "2005/2006           53096             44296             8800\n",
       "2006/2007           58182             43177            15005\n",
       "2007/2008           57396             42753            14643\n",
       "2008/2009           51061             41066             9995\n",
       "2009/2010           49469             40741             8728\n",
       "2010/2011           47854             44433             3421\n",
       "2011/2012           48593             51304            -2711\n",
       "2012/2013           43830             45698            -1868\n",
       "2013/2014           52281             42806             9475\n",
       "2014/2015           61026             40647            20379\n",
       "2015/2016           63788             37215            26573\n",
       "2016/2017           57210             38376            18834\n",
       "2017/2018           55300             41311            13989\n",
       "2018/2019           55612             49501             6111"
      ]
     },
     "execution_count": 13,
     "metadata": {},
     "output_type": "execute_result"
    }
   ],
   "source": [
    "pd.concat([\n",
    "    total_arrivals_by_year,\n",
    "    total_departures_by_year,\n",
    "    net_immigration_by_year\n",
    "], axis=1).tail(15)"
   ]
  },
  {
   "cell_type": "code",
   "execution_count": null,
   "metadata": {},
   "outputs": [],
   "source": []
  },
  {
   "cell_type": "code",
   "execution_count": null,
   "metadata": {},
   "outputs": [],
   "source": []
  },
  {
   "cell_type": "code",
   "execution_count": null,
   "metadata": {},
   "outputs": [],
   "source": []
  }
 ],
 "metadata": {
  "kernelspec": {
   "display_name": "Python [conda env:torch]",
   "language": "python",
   "name": "conda-env-torch-py"
  },
  "language_info": {
   "codemirror_mode": {
    "name": "ipython",
    "version": 3
   },
   "file_extension": ".py",
   "mimetype": "text/x-python",
   "name": "python",
   "nbconvert_exporter": "python",
   "pygments_lexer": "ipython3",
   "version": "3.7.7"
  }
 },
 "nbformat": 4,
 "nbformat_minor": 2
}
